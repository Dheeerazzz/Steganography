{
 "cells": [
  {
   "cell_type": "code",
   "execution_count": 38,
   "metadata": {},
   "outputs": [],
   "source": [
    "import numpy as np\n",
    "import PIL.Image"
   ]
  },
  {
   "cell_type": "code",
   "execution_count": 39,
   "metadata": {},
   "outputs": [],
   "source": [
    "image=PIL.Image.open('cat.png','r')\n",
    "img_arr=np.array(list(image.getdata()))"
   ]
  },
  {
   "cell_type": "code",
   "execution_count": 40,
   "metadata": {},
   "outputs": [],
   "source": [
    "channels= 4 if image.mode==\"RGBA\" else 3"
   ]
  },
  {
   "cell_type": "code",
   "execution_count": 41,
   "metadata": {},
   "outputs": [],
   "source": [
    "pixels=img_arr.size//channels"
   ]
  },
  {
   "cell_type": "code",
   "execution_count": 42,
   "metadata": {},
   "outputs": [
    {
     "name": "stdout",
     "output_type": "stream",
     "text": [
      "Couldn't find any message\n"
     ]
    }
   ],
   "source": [
    "secret_bits=[bin(img_arr[i][j])[-1] for i in range(pixels) for j in range(0,3)]\n",
    "secret_bits=''.join(secret_bits)\n",
    "secret_bits=[secret_bits[i:i+8] for i in range(0,len(secret_bits),8)]\n",
    "\n",
    "secret_msg=[chr(int(secret_bits[i],2)) for i in range(len(secret_bits))]\n",
    "secret_msg=''.join(secret_msg)\n",
    "stop_indicator=\"$NEURAL$\"\n",
    "\n",
    "if stop_indicator in secret_msg:\n",
    "    print(secret_msg[:secret_msg.index(stop_indicator)])\n",
    "else:\n",
    "    print(\"Couldn't find any message\")"
   ]
  },
  {
   "cell_type": "code",
   "execution_count": null,
   "metadata": {},
   "outputs": [],
   "source": []
  },
  {
   "cell_type": "code",
   "execution_count": null,
   "metadata": {},
   "outputs": [],
   "source": []
  }
 ],
 "metadata": {
  "kernelspec": {
   "display_name": "Python 3",
   "language": "python",
   "name": "python3"
  },
  "language_info": {
   "codemirror_mode": {
    "name": "ipython",
    "version": 3
   },
   "file_extension": ".py",
   "mimetype": "text/x-python",
   "name": "python",
   "nbconvert_exporter": "python",
   "pygments_lexer": "ipython3",
   "version": "3.10.10"
  },
  "orig_nbformat": 4
 },
 "nbformat": 4,
 "nbformat_minor": 2
}
