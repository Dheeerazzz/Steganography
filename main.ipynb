{
 "cells": [
  {
   "cell_type": "markdown",
   "metadata": {},
   "source": []
  },
  {
   "cell_type": "code",
   "execution_count": 38,
   "metadata": {},
   "outputs": [],
   "source": [
    "import numpy as np\n",
    "import PIL.Image"
   ]
  },
  {
   "cell_type": "code",
   "execution_count": 39,
   "metadata": {},
   "outputs": [],
   "source": [
    "hide_msg=''' To Avoid :\n",
    "Gossiping\n",
    "Judging\n",
    "Negativity\n",
    "Complaining\n",
    "Excuses\n",
    "Lying\n",
    "Dogmatism\n",
    "\n",
    "\n",
    "H  -  Honesty  (clear and straight)\n",
    "A  -  Authenticity (be yourself)\n",
    "I  -  Integrity  (Be your word)\n",
    "L  -  Love  (wish them well)\n",
    "\n",
    "\n",
    "Arms up  - Deep breath - Exhale with mouth making sound\n",
    "Hen sound\n",
    "Engine sounds\n",
    "La-La-La-La\n",
    "Accelerating \n",
    "Weeeeeeeeee-oooooweeeeeeeeeee\n",
    "'''"
   ]
  },
  {
   "cell_type": "code",
   "execution_count": 40,
   "metadata": {},
   "outputs": [
    {
     "name": "stdout",
     "output_type": "stream",
     "text": [
      "250000\n"
     ]
    }
   ],
   "source": [
    "image=PIL.Image.open('cat.png','r')\n",
    "width,height=image.size \n",
    "img_Arr=np.array(list(image.getdata()))\n",
    "print(img_Arr.size)"
   ]
  },
  {
   "cell_type": "code",
   "execution_count": 41,
   "metadata": {},
   "outputs": [
    {
     "name": "stdout",
     "output_type": "stream",
     "text": [
      "2840\n"
     ]
    }
   ],
   "source": [
    "if image.mode==\"P\":\n",
    "    print(\"Not supported\")\n",
    "    exit()\n",
    "\n",
    "channels= 4 if image.mode==\"RGBA\" else 3\n",
    "\n",
    "pixels=img_Arr.size//channels \n",
    "stop_indicator=\"$NEURAL$\"\n",
    "\n",
    "stop_indicator_length=len(stop_indicator)\n",
    "hide_msg+=stop_indicator\n",
    "\n",
    "byte_msg=''.join(f\"{ord(c):08b}\" for c in hide_msg)\n",
    "#print(byte_msg)\n",
    "\n",
    "bits=len(byte_msg)\n",
    "print(bits)\n",
    "if bits>pixels:\n",
    "    print(\"Not enogth space\")\n",
    "else:\n",
    "    index=0\n",
    "    for i in range(pixels):\n",
    "        for j in range(0,3):\n",
    "            if index<bits:\n",
    "                img_Arr[i][j]=int(bin(img_Arr[i][j])[2:-1] + byte_msg[index],2)\n",
    "                index+=1\n",
    "\n",
    "img_Arr=img_Arr.reshape(height,width,channels)\n",
    "results=PIL.Image.fromarray(img_Arr.astype('uint8'),image.mode)\n",
    "results.save('encod.png')"
   ]
  },
  {
   "cell_type": "code",
   "execution_count": null,
   "metadata": {},
   "outputs": [],
   "source": []
  }
 ],
 "metadata": {
  "kernelspec": {
   "display_name": "Python 3",
   "language": "python",
   "name": "python3"
  },
  "language_info": {
   "codemirror_mode": {
    "name": "ipython",
    "version": 3
   },
   "file_extension": ".py",
   "mimetype": "text/x-python",
   "name": "python",
   "nbconvert_exporter": "python",
   "pygments_lexer": "ipython3",
   "version": "3.10.10"
  },
  "orig_nbformat": 4
 },
 "nbformat": 4,
 "nbformat_minor": 2
}
